{
 "cells": [
  {
   "cell_type": "markdown",
   "metadata": {},
   "source": [
    "# Metadata\n",
    "\n",
    "```yaml\n",
    "Course:  DS 5100\n",
    "Module:  14 Python Packages\n",
    "Topic:   HW Package Booklover\n",
    "Author:  R.C. Alvarado\n",
    "Date:    11 July 2022\n",
    "```"
   ]
  },
  {
   "cell_type": "markdown",
   "metadata": {},
   "source": [
    "# Student Metadata\n",
    "\n",
    "* Name: Jose Diaz-Rivera\n",
    "* NetID: jyd2hw"
   ]
  },
  {
   "cell_type": "markdown",
   "metadata": {},
   "source": [
    "# Instructions\n",
    "\n",
    "Follow the recipe we used in class to package the code you wrote for `HW09` -- `booklover.py` and `booklover_test.py`.\n",
    "\n",
    "Here is the recipe:\n",
    "* Create a new git repo for your package.\n",
    "* Create and edit the required files and directories for your package and move the booklover modules there.\n",
    "* Stage, commit, and push all the files you've created.\n",
    "* Install your package with pip.\n",
    "* Outside of your package dir, write a script to test your method.\n",
    "\n",
    "Put this notebook in your repo. This will allow you to execute bash commands and capture the output directly in the notebook.\n",
    "\n",
    "**TOTAL: 8 POINTS**"
   ]
  },
  {
   "cell_type": "markdown",
   "metadata": {
    "tags": []
   },
   "source": [
    "# Q1\n",
    "\n",
    "(5 points)\n",
    "\n",
    "Show the directory structure of your repo by running this command from the root of your repo:"
   ]
  },
  {
   "cell_type": "code",
   "execution_count": 1,
   "metadata": {},
   "outputs": [
    {
     "name": "stdout",
     "output_type": "stream",
     "text": [
      ".:\n",
      "total 32\n",
      "-rw-r--r-- 1 jyd2hw users 1063 Jul 11 10:30 LICENSE\n",
      "-rw-r--r-- 1 jyd2hw users 4342 Jul 11 21:33 M14_HW.ipynb\n",
      "drwxr-sr-x 3 jyd2hw users 2048 Jul 11 21:32 Module14_demo\n",
      "drwxr-sr-x 2 jyd2hw users 2048 Jul 11 21:56 Module14_demo.egg-info\n",
      "-rw-r--r-- 1 jyd2hw users   17 Jul 11 10:30 README.md\n",
      "-rw-r--r-- 1 jyd2hw users  310 Jul 11 21:29 setup.py\n",
      "\n",
      "./Module14_demo:\n",
      "total 16\n",
      "-rw-r--r-- 1 jyd2hw users 1175 Jul 11 16:20 booklover.py\n",
      "-rw-r--r-- 1 jyd2hw users 2184 Jul 11 16:20 booklover_test.py\n",
      "-rw-r--r-- 1 jyd2hw users   32 Jul 11 21:31 __init__.py\n",
      "\n",
      "./Module14_demo.egg-info:\n",
      "total 16\n",
      "-rw-r--r-- 1 jyd2hw users   1 Jul 11 21:56 dependency_links.txt\n",
      "-rw-r--r-- 1 jyd2hw users 254 Jul 11 21:56 PKG-INFO\n",
      "-rw-r--r-- 1 jyd2hw users 251 Jul 11 21:56 SOURCES.txt\n",
      "-rw-r--r-- 1 jyd2hw users  14 Jul 11 21:56 top_level.txt\n"
     ]
    }
   ],
   "source": [
    "!ls -lR"
   ]
  },
  {
   "cell_type": "markdown",
   "metadata": {},
   "source": [
    "# Q2\n",
    "\n",
    "(1 point)\n",
    "\n",
    "Put the URL of your GitHub repo here. Just paste it into a Markdown cell."
   ]
  },
  {
   "cell_type": "markdown",
   "metadata": {},
   "source": [
    "URL: https://github.com/Haigro/HW_Package_Booklover/tree/main"
   ]
  },
  {
   "cell_type": "markdown",
   "metadata": {
    "lines_to_next_cell": 0
   },
   "source": [
    "# Q3\n",
    "\n",
    "(1 point)\n",
    "\n",
    "Show the results of installing your package.\n",
    "\n",
    "```bash\n",
    "!pip install -e .\n",
    "```"
   ]
  },
  {
   "cell_type": "code",
   "execution_count": 2,
   "metadata": {},
   "outputs": [
    {
     "name": "stdout",
     "output_type": "stream",
     "text": [
      "Defaulting to user installation because normal site-packages is not writeable\n",
      "Obtaining file:///sfs/qumulo/qhome/jyd2hw/Documents/MSDS/DS5100/DS5100_Module14\n",
      "Installing collected packages: Module14-demo\n",
      "  Running setup.py develop for Module14-demo\n",
      "Successfully installed Module14-demo\n"
     ]
    }
   ],
   "source": [
    "!pip install -e ."
   ]
  },
  {
   "cell_type": "markdown",
   "metadata": {},
   "source": [
    "# Q4\n",
    "\n",
    "(1 point)\n",
    "\n",
    "Create a file outside your repo (one level up) to test your package.\n",
    "\n",
    "Import the package and run it. Specifically, create a BookLover object, add a book, and then print number books read.\n",
    "\n",
    "Show the output of running the file below, using a command like the following:\n",
    "\n",
    "```bash\n",
    "!python ../book_lover_demo.py\n",
    "```"
   ]
  },
  {
   "cell_type": "code",
   "execution_count": 17,
   "metadata": {},
   "outputs": [
    {
     "name": "stdout",
     "output_type": "stream",
     "text": [
      "Traceback (most recent call last):\n",
      "  File \"/home/jyd2hw/Documents/MSDS/DS5100/DS5100_Module14/book_lover_demo.py\", line 1, in <module>\n",
      "    from booklover import Booklover \n",
      "ModuleNotFoundError: No module named 'booklover'\n"
     ]
    }
   ],
   "source": [
    "!python /home/jyd2hw/Documents/MSDS/DS5100/DS5100_Module14/book_lover_demo.py"
   ]
  },
  {
   "cell_type": "code",
   "execution_count": null,
   "metadata": {},
   "outputs": [],
   "source": []
  }
 ],
 "metadata": {
  "jupytext": {
   "cell_metadata_filter": "-all",
   "main_language": "bash",
   "notebook_metadata_filter": "-all"
  },
  "kernelspec": {
   "display_name": "Python 3",
   "language": "python",
   "name": "python3"
  },
  "language_info": {
   "codemirror_mode": {
    "name": "ipython",
    "version": 3
   },
   "file_extension": ".py",
   "mimetype": "text/x-python",
   "name": "python",
   "nbconvert_exporter": "python",
   "pygments_lexer": "ipython3",
   "version": "3.8.8"
  },
  "widgets": {
   "application/vnd.jupyter.widget-state+json": {
    "state": {},
    "version_major": 2,
    "version_minor": 0
   }
  }
 },
 "nbformat": 4,
 "nbformat_minor": 5
}
